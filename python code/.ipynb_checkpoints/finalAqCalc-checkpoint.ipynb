{
 "cells": [
  {
   "cell_type": "code",
   "execution_count": null,
   "metadata": {},
   "outputs": [],
   "source": [
    "import pandas as pd\n",
    "import pyodbc"
   ]
  },
  {
   "cell_type": "code",
   "execution_count": null,
   "metadata": {},
   "outputs": [],
   "source": [
    "import numpy as np"
   ]
  },
  {
   "cell_type": "code",
   "execution_count": null,
   "metadata": {},
   "outputs": [],
   "source": [
    "# Getting the ALP By LDZ(location) (industry data)"
   ]
  },
  {
   "cell_type": "code",
   "execution_count": null,
   "metadata": {
    "scrolled": true
   },
   "outputs": [],
   "source": [
    "server= 'SOE-AWS-SQL-003'\n",
    "db='soenergy'\n",
    "\n",
    "conn = pyodbc.connect('DRIVER={SQL Server};SERVER=' + server + ';DATABASE=' + db + '; Trusted_Connection=yes')\n",
    "sql = \"select gldZ.code,gldZ.name,galp.source,galp.validDt,galp.value ALP from soenergy.dbo.UkGasAnnualLoadProfile galp, soenergy.dbo.UkGasFullEndUserCategory feuc, soenergy.dbo.UkGasLocalDistribZone gldZ where galp.ukGasFullEndUserCategoryFk=feuc.id and feuc.ukGasLocalDistribZoneFk=gldZ.id\"\n",
    "\n",
    "ldzAlp = pd.io.sql.read_sql(sql, conn)\n",
    "ldzAlp"
   ]
  },
  {
   "cell_type": "code",
   "execution_count": null,
   "metadata": {},
   "outputs": [],
   "source": []
  },
  {
   "cell_type": "code",
   "execution_count": null,
   "metadata": {},
   "outputs": [],
   "source": [
    "import pandas as pd\n",
    "import numpy as np\n",
    "import csv"
   ]
  },
  {
   "cell_type": "code",
   "execution_count": null,
   "metadata": {},
   "outputs": [],
   "source": [
    "# ldzAlp = pd.read_csv('D:/Users/Aravindhan.P.Dev/OneDrive - So Energy/AQ calc/Results/ldzALP.csv')"
   ]
  },
  {
   "cell_type": "code",
   "execution_count": null,
   "metadata": {
    "scrolled": true
   },
   "outputs": [],
   "source": [
    "ldzAlp.drop_duplicates(subset=['code','validDt'], inplace = True)"
   ]
  },
  {
   "cell_type": "code",
   "execution_count": null,
   "metadata": {
    "scrolled": true
   },
   "outputs": [],
   "source": [
    "ldzAlp"
   ]
  },
  {
   "cell_type": "code",
   "execution_count": null,
   "metadata": {},
   "outputs": [],
   "source": []
  },
  {
   "cell_type": "code",
   "execution_count": null,
   "metadata": {},
   "outputs": [],
   "source": [
    "mprnusage = pd.read_csv('D:/Users/Aravindhan.P.Dev/OneDrive - So Energy/AQ calc/NEW_MPRN_USAGE.csv')"
   ]
  },
  {
   "cell_type": "code",
   "execution_count": null,
   "metadata": {
    "scrolled": true
   },
   "outputs": [],
   "source": [
    "mprnusage"
   ]
  },
  {
   "cell_type": "code",
   "execution_count": null,
   "metadata": {},
   "outputs": [],
   "source": [
    "mprnusage['eventDttm'] = pd.to_datetime(mprnusage['eventDttm'])"
   ]
  },
  {
   "cell_type": "code",
   "execution_count": null,
   "metadata": {},
   "outputs": [],
   "source": [
    "jDF = pd.DataFrame()"
   ]
  },
  {
   "cell_type": "code",
   "execution_count": null,
   "metadata": {
    "scrolled": true
   },
   "outputs": [],
   "source": [
    "for _, i in mprnusage.groupby(['meterPointIdentifier','SerialNum']):\n",
    "    i = i.sort_values('eventDttm')\n",
    "    jDF = jDF.append(i)\n",
    "\n",
    "jDF"
   ]
  },
  {
   "cell_type": "code",
   "execution_count": null,
   "metadata": {},
   "outputs": [],
   "source": [
    "jDF.reset_index(drop=True, inplace=True)"
   ]
  },
  {
   "cell_type": "code",
   "execution_count": null,
   "metadata": {},
   "outputs": [],
   "source": [
    "jDF['len'] = np.nan"
   ]
  },
  {
   "cell_type": "code",
   "execution_count": null,
   "metadata": {
    "scrolled": true
   },
   "outputs": [],
   "source": [
    "mask = ~jDF['meterPointIdentifier'].duplicated(keep='first')\n",
    "mask"
   ]
  },
  {
   "cell_type": "code",
   "execution_count": null,
   "metadata": {},
   "outputs": [],
   "source": [
    "jDF.loc[mask,'len'] = 0"
   ]
  },
  {
   "cell_type": "code",
   "execution_count": null,
   "metadata": {
    "scrolled": true
   },
   "outputs": [],
   "source": [
    "jDF"
   ]
  },
  {
   "cell_type": "code",
   "execution_count": null,
   "metadata": {},
   "outputs": [],
   "source": [
    "error_mask = (jDF['cumulative'] <= jDF['cumulative'].shift(1)) & (jDF['len']!=0)\n",
    "jDF.loc[error_mask, 'error'] = True"
   ]
  },
  {
   "cell_type": "code",
   "execution_count": null,
   "metadata": {
    "scrolled": true
   },
   "outputs": [],
   "source": [
    "jDF"
   ]
  },
  {
   "cell_type": "code",
   "execution_count": null,
   "metadata": {},
   "outputs": [],
   "source": [
    "jDF['lenall'] = 10**jDF['cumulative'].astype(int).astype(str).str.len()"
   ]
  },
  {
   "cell_type": "code",
   "execution_count": null,
   "metadata": {
    "scrolled": true
   },
   "outputs": [],
   "source": [
    "jDF"
   ]
  },
  {
   "cell_type": "code",
   "execution_count": null,
   "metadata": {
    "scrolled": true
   },
   "outputs": [],
   "source": [
    "correction_mask = (jDF['error']==True)\n",
    "correction_mask"
   ]
  },
  {
   "cell_type": "code",
   "execution_count": null,
   "metadata": {},
   "outputs": [],
   "source": [
    "jDF.loc[correction_mask,'len'] = jDF.loc[correction_mask,'lenall']"
   ]
  },
  {
   "cell_type": "code",
   "execution_count": null,
   "metadata": {
    "scrolled": true
   },
   "outputs": [],
   "source": [
    "jDF"
   ]
  },
  {
   "cell_type": "code",
   "execution_count": null,
   "metadata": {},
   "outputs": [],
   "source": [
    "for _, i in jDF.groupby(['meterPointIdentifier','SerialNum']):\n",
    "    i = i.sort_values('eventDttm')\n",
    "    i['len'] = i['len'].ffill()"
   ]
  },
  {
   "cell_type": "code",
   "execution_count": null,
   "metadata": {
    "scrolled": true
   },
   "outputs": [],
   "source": [
    "jDF"
   ]
  },
  {
   "cell_type": "code",
   "execution_count": null,
   "metadata": {},
   "outputs": [],
   "source": [
    "jDF.loc[jDF['len']>0,'cumulative'] = jDF.loc[jDF['len']>0,'cumulative'] + jDF.loc[jDF['len']>0,'len']"
   ]
  },
  {
   "cell_type": "code",
   "execution_count": null,
   "metadata": {},
   "outputs": [],
   "source": [
    "from itertools import product"
   ]
  },
  {
   "cell_type": "code",
   "execution_count": null,
   "metadata": {},
   "outputs": [],
   "source": [
    "subtest = pd.DataFrame()\n",
    "\n",
    "for _, i in jDF.groupby(['meterPointIdentifier','SerialNum']):\n",
    "    \n",
    "    i = i.sort_values('eventDttm')\n",
    "    i['mrmr'] = i['mrmr'].ffill().bfill()\n",
    "    \n",
    "    \n",
    "    \n",
    "    \n",
    "#     vals = i['cumulative'].unique()\n",
    "    vals = i['cumulative']\n",
    "    dates = i['eventDttm']\n",
    "    val, val1 = zip(*product(vals, vals))\n",
    "    vals_len = len(vals)\n",
    "    date, date1 = zip(*product(dates,dates))\n",
    "\n",
    "    def elongate(s, k):\n",
    "        \n",
    "        return pd.concat([s] * k, ignore_index=True)\n",
    "\n",
    "    res = pd.DataFrame({'meterPointIdentifier': i['meterPointIdentifier'].pipe(elongate, vals_len),\n",
    "                        'eventDttm': i['eventDttm'].pipe(elongate, vals_len),\n",
    "                        'cumulative': i['cumulative'].pipe(elongate, vals_len),\n",
    "                        'LDZ': i['LDZ'].pipe(elongate, vals_len),\n",
    "                        'mrmr': i['mrmr'].pipe(elongate, vals_len),\n",
    "                        'SerialNum': i['SerialNum'].pipe(elongate, vals_len),\n",
    "                        'STAT': i['STAT'].pipe(elongate, vals_len),\n",
    "                        'value': val,\n",
    "                        'value1': val1,\n",
    "                        'date':date,\n",
    "                        'date1':date1\n",
    "                       })\n",
    "\n",
    "\n",
    "    subtest = subtest.append(res)\n",
    "\n",
    "    \n",
    "print(subtest)"
   ]
  },
  {
   "cell_type": "code",
   "execution_count": null,
   "metadata": {},
   "outputs": [],
   "source": [
    "subtest.to_csv('D:/Users/Aravindhan.P.Dev/OneDrive - So Energy/AQ calc/Results/combination.csv') "
   ]
  },
  {
   "cell_type": "code",
   "execution_count": null,
   "metadata": {
    "scrolled": true
   },
   "outputs": [],
   "source": [
    "subtest"
   ]
  },
  {
   "cell_type": "code",
   "execution_count": null,
   "metadata": {
    "scrolled": true
   },
   "outputs": [],
   "source": [
    "# subtest = pd.read_csv('D:/Users/Aravindhan.P.Dev/OneDrive - So Energy/AQ calc/Results/combination.csv')"
   ]
  },
  {
   "cell_type": "code",
   "execution_count": null,
   "metadata": {},
   "outputs": [],
   "source": [
    "\n",
    "test = subtest[:10].drop_duplicates(subset=['meterPointIdentifier','SerialNum','value','value1','date','date1'], keep='first', inplace=False)\n",
    "\n",
    "test"
   ]
  },
  {
   "cell_type": "code",
   "execution_count": null,
   "metadata": {
    "scrolled": true
   },
   "outputs": [],
   "source": [
    "jDF1 = subtest.drop_duplicates(subset=['meterPointIdentifier','SerialNum','value','value1','date','date1'], keep='first', inplace=False)"
   ]
  },
  {
   "cell_type": "code",
   "execution_count": null,
   "metadata": {
    "scrolled": true
   },
   "outputs": [],
   "source": [
    "jDF1"
   ]
  },
  {
   "cell_type": "code",
   "execution_count": null,
   "metadata": {},
   "outputs": [],
   "source": [
    "ldzAlp['validDt'] = pd.to_datetime(ldzAlp['validDt'])\n",
    "jDF1['eventDttm'] = pd.to_datetime(jDF1['eventDttm'])\n",
    "jDF1['date'] = pd.to_datetime(jDF1['date'])\n",
    "jDF1['date1'] = pd.to_datetime(jDF1['date1'])"
   ]
  },
  {
   "cell_type": "code",
   "execution_count": null,
   "metadata": {},
   "outputs": [],
   "source": [
    "jDF1['Delta_Date'] = jDF1['date1'] - jDF1['date']"
   ]
  },
  {
   "cell_type": "code",
   "execution_count": null,
   "metadata": {
    "scrolled": true
   },
   "outputs": [],
   "source": [
    "jDF1[jDF1['meterPointIdentifier']==11006910]"
   ]
  },
  {
   "cell_type": "code",
   "execution_count": null,
   "metadata": {
    "scrolled": false
   },
   "outputs": [],
   "source": [
    "jDF1['Delta_Date'] = jDF1['Delta_Date'].dt.days\n",
    "jDF1.dtypes"
   ]
  },
  {
   "cell_type": "code",
   "execution_count": null,
   "metadata": {
    "scrolled": true
   },
   "outputs": [],
   "source": [
    "mask = (jDF1['Delta_Date']>=90)\n",
    "\n",
    "newjDF = jDF1.loc[mask]\n",
    "newjDF"
   ]
  },
  {
   "cell_type": "code",
   "execution_count": null,
   "metadata": {},
   "outputs": [],
   "source": [
    "len(newjDF)"
   ]
  },
  {
   "cell_type": "code",
   "execution_count": null,
   "metadata": {},
   "outputs": [],
   "source": [
    "newjDF['deltaR'] = np.nan"
   ]
  },
  {
   "cell_type": "code",
   "execution_count": null,
   "metadata": {
    "scrolled": true
   },
   "outputs": [],
   "source": [
    "newjDF['deltaR'] = newjDF['value1'] - newjDF['value']\n",
    "newjDF"
   ]
  },
  {
   "cell_type": "code",
   "execution_count": null,
   "metadata": {},
   "outputs": [],
   "source": [
    "mrmr = newjDF.mrmr\n",
    "newjDF = newjDF.drop('mrmr', axis=1)\n",
    "def alpcalc(row):\n",
    "    r1 = row.date\n",
    "    r2 = row.date1\n",
    "    ldz = row.LDZ\n",
    "    dayDiff = row.Delta_Date\n",
    "    \n",
    "    total_ALP = ldzAlp.loc[(dayDiff>=90) & (r1 <= ldzAlp.validDt) & (r2>= ldzAlp.validDt) & (ldz == ldzAlp.code), 'ALP'].sum()\n",
    "\n",
    "    return total_ALP\n",
    "\n",
    "newjDF['ALP'] = newjDF.apply(alpcalc, axis=1)\n",
    "newjDF['mrmr'] = mrmr"
   ]
  },
  {
   "cell_type": "code",
   "execution_count": null,
   "metadata": {},
   "outputs": [],
   "source": [
    "newjDF.to_csv('D:/Users/Aravindhan.P.Dev/OneDrive - So Energy/AQ calc/Results/finalUsage_Alp.csv')"
   ]
  },
  {
   "cell_type": "code",
   "execution_count": null,
   "metadata": {},
   "outputs": [],
   "source": [
    "# newjDF = pd.read_csv('D:/Users/Aravindhan.P.Dev/OneDrive - So Energy/AQ calc/Results/finalUsage_Alp.csv')"
   ]
  },
  {
   "cell_type": "code",
   "execution_count": null,
   "metadata": {},
   "outputs": [],
   "source": [
    "newjDF[newjDF['meterPointIdentifier']==11006910]"
   ]
  },
  {
   "cell_type": "code",
   "execution_count": null,
   "metadata": {},
   "outputs": [],
   "source": [
    "newjDF = newjDF.groupby(['meterPointIdentifier','SerialNum']).ffill().groupby(['meterPointIdentifier','SerialNum']).bfill()"
   ]
  },
  {
   "cell_type": "code",
   "execution_count": null,
   "metadata": {},
   "outputs": [],
   "source": [
    "newjDF.dropna(axis=0, subset=['mrmr'], inplace=True)"
   ]
  },
  {
   "cell_type": "code",
   "execution_count": null,
   "metadata": {},
   "outputs": [],
   "source": [
    "newjDF[newjDF['ALP'].isnull()]"
   ]
  },
  {
   "cell_type": "code",
   "execution_count": null,
   "metadata": {},
   "outputs": [],
   "source": [
    "#------------------conversion for cubic metres constants\n",
    "volCorrectiontemppres = 1.02264\n",
    "calorificVal = 39.4\n",
    "convfrmJules = 3.6\n",
    "mcubekwh = volCorrectiontemppres*calorificVal/convfrmJules\n",
    "print(mcubekwh)\n",
    "#---------------------conversion for 100s of Cubic feet constants\n",
    "convtoCubicM = 2.83\n",
    "mcubeftkwh = convtoCubicM*volCorrectiontemppres*calorificVal/convfrmJules\n",
    "print(mcubeftkwh)"
   ]
  },
  {
   "cell_type": "code",
   "execution_count": null,
   "metadata": {},
   "outputs": [],
   "source": []
  },
  {
   "cell_type": "code",
   "execution_count": null,
   "metadata": {
    "scrolled": true
   },
   "outputs": [],
   "source": [
    "mask1 = (newjDF['mrmr']==8.0) & (newjDF['ALP']!=0)\n",
    "newjDF.loc[mask1,'UnitConvUsage'] = newjDF.loc[mask1,'deltaR'] * mcubekwh"
   ]
  },
  {
   "cell_type": "code",
   "execution_count": null,
   "metadata": {},
   "outputs": [],
   "source": [
    "newjDF"
   ]
  },
  {
   "cell_type": "code",
   "execution_count": null,
   "metadata": {
    "scrolled": true
   },
   "outputs": [],
   "source": [
    "mask2 = (newjDF['mrmr']==14.0) & (newjDF['ALP']!=0)\n",
    "newjDF.loc[mask2,'UnitConvUsage']=newjDF.loc[mask2,'deltaR'] * mcubeftkwh"
   ]
  },
  {
   "cell_type": "code",
   "execution_count": null,
   "metadata": {},
   "outputs": [],
   "source": [
    "newjDF"
   ]
  },
  {
   "cell_type": "code",
   "execution_count": null,
   "metadata": {
    "scrolled": true
   },
   "outputs": [],
   "source": [
    "AQMask = (newjDF['ALP']!=0) & (newjDF.UnitConvUsage.notnull())\n",
    "newjDF.loc[AQMask,'AQ']=(newjDF.loc[AQMask,'UnitConvUsage']*365)/newjDF.loc[AQMask,'ALP']\n",
    "newjDF"
   ]
  },
  {
   "cell_type": "code",
   "execution_count": null,
   "metadata": {},
   "outputs": [],
   "source": [
    "newjDF.reset_index(drop = True, inplace = True)"
   ]
  },
  {
   "cell_type": "code",
   "execution_count": null,
   "metadata": {},
   "outputs": [],
   "source": [
    "newjDF[newjDF['meterPointIdentifier']==11006910]"
   ]
  },
  {
   "cell_type": "code",
   "execution_count": null,
   "metadata": {
    "scrolled": true
   },
   "outputs": [],
   "source": [
    "mask = ((newjDF['deltaR']>0) & (newjDF.ALP!=0) & (newjDF.mrmr.notnull()))"
   ]
  },
  {
   "cell_type": "code",
   "execution_count": null,
   "metadata": {
    "scrolled": true
   },
   "outputs": [],
   "source": [
    "newjDF1 = newjDF[((newjDF['deltaR']>0) & (newjDF.ALP!=0) & (newjDF.mrmr.notnull()))]\n",
    "newjDF1 = newjDF1.drop_duplicates(subset=['meterPointIdentifier','SerialNum','value','value1','date','date1','AQ'], keep='first', inplace=False)\n",
    "newjDF1"
   ]
  },
  {
   "cell_type": "code",
   "execution_count": null,
   "metadata": {},
   "outputs": [],
   "source": [
    "newjDF1.reset_index(drop=True, inplace=True)"
   ]
  },
  {
   "cell_type": "code",
   "execution_count": null,
   "metadata": {},
   "outputs": [],
   "source": [
    "newjDF1[newjDF1['meterPointIdentifier']==11006910]"
   ]
  },
  {
   "cell_type": "code",
   "execution_count": null,
   "metadata": {},
   "outputs": [],
   "source": [
    "print('number of records available',len(newjDF1))\n",
    "print('number of MPRNs available',len(newjDF1['meterPointIdentifier'].unique()))"
   ]
  },
  {
   "cell_type": "code",
   "execution_count": null,
   "metadata": {},
   "outputs": [],
   "source": [
    "FinalAQDf = newjDF1[['meterPointIdentifier','SerialNum','LDZ','date','date1','Delta_Date','value','value1','STAT','deltaR','mrmr','UnitConvUsage','ALP','AQ']]"
   ]
  },
  {
   "cell_type": "code",
   "execution_count": null,
   "metadata": {
    "scrolled": true
   },
   "outputs": [],
   "source": [
    "FinalAQDf[FinalAQDf['meterPointIdentifier']==11006910]"
   ]
  },
  {
   "cell_type": "code",
   "execution_count": null,
   "metadata": {},
   "outputs": [],
   "source": [
    "FinalAQDf.to_csv('D:/Users/Aravindhan.P.Dev/OneDrive - So Energy/AQ calc/Results/wholefinalAQ.csv')"
   ]
  },
  {
   "cell_type": "code",
   "execution_count": null,
   "metadata": {},
   "outputs": [],
   "source": []
  },
  {
   "cell_type": "code",
   "execution_count": null,
   "metadata": {},
   "outputs": [],
   "source": [
    "fDf = FinalAQDf[FinalAQDf['meterPointIdentifier']==11006910]"
   ]
  },
  {
   "cell_type": "code",
   "execution_count": null,
   "metadata": {},
   "outputs": [],
   "source": [
    "fDf"
   ]
  },
  {
   "cell_type": "code",
   "execution_count": null,
   "metadata": {},
   "outputs": [],
   "source": [
    "fDf[fDf['AQ']==fDf['AQ'].min()]"
   ]
  },
  {
   "cell_type": "code",
   "execution_count": null,
   "metadata": {},
   "outputs": [],
   "source": []
  },
  {
   "cell_type": "code",
   "execution_count": null,
   "metadata": {
    "scrolled": true
   },
   "outputs": [],
   "source": [
    "minAQ = FinalAQDf.groupby(['meterPointIdentifier']).min().AQ\n",
    "minAQ"
   ]
  },
  {
   "cell_type": "code",
   "execution_count": null,
   "metadata": {
    "scrolled": true
   },
   "outputs": [],
   "source": [
    "FinalAQdf2 = pd.DataFrame({'meterPointIdentifier':minAQ.index, 'AQ':minAQ.values})\n",
    "FinalAQdf2"
   ]
  },
  {
   "cell_type": "code",
   "execution_count": null,
   "metadata": {},
   "outputs": [],
   "source": [
    "FinalAQmerged = pd.merge(FinalAQDf,FinalAQdf2, how='inner', left_on=['meterPointIdentifier','AQ'], right_on = ['meterPointIdentifier','AQ'])"
   ]
  },
  {
   "cell_type": "code",
   "execution_count": null,
   "metadata": {},
   "outputs": [],
   "source": [
    "FinalAQmerged[FinalAQmerged['meterPointIdentifier']==202592009]"
   ]
  },
  {
   "cell_type": "code",
   "execution_count": null,
   "metadata": {},
   "outputs": [],
   "source": [
    "FinalAQmerged.to_csv('D:/Users/Aravindhan.P.Dev/OneDrive - So Energy/AQ calc/Results/minimumfinalAQ.csv')"
   ]
  },
  {
   "cell_type": "code",
   "execution_count": null,
   "metadata": {},
   "outputs": [],
   "source": [
    "# FinalAQmerged = pd.read_csv('D:/Users/Aravindhan.P.Dev/OneDrive - So Energy/AQ calc/Results/minimumfinalAQ.csv', dayfirst=True)\n",
    "# del FinalAQmerged['Unnamed: 0']"
   ]
  },
  {
   "cell_type": "code",
   "execution_count": null,
   "metadata": {},
   "outputs": [],
   "source": [
    "FinalAQmerged[FinalAQmerged['meterPointIdentifier']==202592009]"
   ]
  },
  {
   "cell_type": "code",
   "execution_count": null,
   "metadata": {
    "scrolled": true
   },
   "outputs": [],
   "source": [
    "IndustryAQ = pd.read_csv('D:/Users/Aravindhan.P.Dev/OneDrive - So Energy/AQ calc/Results/industry_AQ.csv',encoding = \"ISO-8859-1\")\n"
   ]
  },
  {
   "cell_type": "code",
   "execution_count": null,
   "metadata": {},
   "outputs": [],
   "source": [
    "IndustryAQ[(IndustryAQ['IND_MPRN']==202592009) & (IndustryAQ['IND_SerialNum']=='8009651S')]"
   ]
  },
  {
   "cell_type": "code",
   "execution_count": null,
   "metadata": {},
   "outputs": [],
   "source": [
    "IndustryAQ[IndustryAQ['IND_MPRN']==202592009]"
   ]
  },
  {
   "cell_type": "code",
   "execution_count": null,
   "metadata": {
    "scrolled": true
   },
   "outputs": [],
   "source": [
    "IndustryAQ = IndustryAQ[['IND_MPRN','IND_SerialNum','IND_AQ']]\n",
    "IndustryAQ"
   ]
  },
  {
   "cell_type": "code",
   "execution_count": null,
   "metadata": {
    "scrolled": true
   },
   "outputs": [],
   "source": [
    "AQcomparisonDf = pd.merge(FinalAQmerged,IndustryAQ, how='inner', left_on=['meterPointIdentifier','SerialNum'], right_on = ['IND_MPRN','IND_SerialNum'])"
   ]
  },
  {
   "cell_type": "code",
   "execution_count": null,
   "metadata": {
    "scrolled": true
   },
   "outputs": [],
   "source": [
    "AQcomparisonDf[AQcomparisonDf['meterPointIdentifier']==202592009]"
   ]
  },
  {
   "cell_type": "code",
   "execution_count": null,
   "metadata": {
    "scrolled": true
   },
   "outputs": [],
   "source": [
    "AQcomparisonDf['AQdifference'] = AQcomparisonDf['IND_AQ'] - AQcomparisonDf['AQ']\n",
    "AQcomparisonDf[AQcomparisonDf['meterPointIdentifier']==11006910]"
   ]
  },
  {
   "cell_type": "code",
   "execution_count": null,
   "metadata": {},
   "outputs": [],
   "source": [
    "AQcomparisonDf.to_csv('D:/Users/Aravindhan.P.Dev/OneDrive - So Energy/AQ calc/Results/ComparisonAQ.csv')"
   ]
  }
 ],
 "metadata": {
  "kernelspec": {
   "display_name": "Python 3",
   "language": "python",
   "name": "python3"
  },
  "language_info": {
   "codemirror_mode": {
    "name": "ipython",
    "version": 3
   },
   "file_extension": ".py",
   "mimetype": "text/x-python",
   "name": "python",
   "nbconvert_exporter": "python",
   "pygments_lexer": "ipython3",
   "version": "3.6.5"
  }
 },
 "nbformat": 4,
 "nbformat_minor": 2
}
